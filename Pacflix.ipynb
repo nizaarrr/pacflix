{
 "cells": [
  {
   "cell_type": "code",
   "execution_count": 39,
   "id": "cd1fecc8",
   "metadata": {},
   "outputs": [],
   "source": [
    "#daftar Library\n",
    "import datetime as dt\n",
    "import random\n",
    "from dataclasses import dataclass\n",
    "from tabulate import tabulate\n",
    "from datetime import date\n",
    "from dateutil.relativedelta import relativedelta"
   ]
  },
  {
   "cell_type": "code",
   "execution_count": 22,
   "id": "f3dadba6",
   "metadata": {},
   "outputs": [],
   "source": [
    "@dataclass\n",
    "class Plan:\n",
    "    name: str\n",
    "    can_download : bool\n",
    "    can_stream : bool\n",
    "    has_SD : bool\n",
    "    has_HD : bool\n",
    "    has_UHD : bool\n",
    "    num_device : int\n",
    "    content : list\n",
    "    price : int\n",
    "        \n",
    "    def check_plan (self):\n",
    "        print (tabulate([\n",
    "            [\"Service\", \"Detail\"],\n",
    "            [\"Plan\", self.name],\n",
    "            [\"Download\", \"V\" if self.can_download else \"-\"],\n",
    "            [\"Stream\", \"V\" if self.can_stream else \"-\"],\n",
    "            [\"SD\", \"V\" if self.has_SD else \"-\"],\n",
    "            [\"HD\", \"V\" if self.has_HD else \"-\"],\n",
    "            [\"UHD\", \"V\" if self.has_UHD else \"-\"],\n",
    "            [\"Number of Device\", self.num_device],\n",
    "            [\"Content\", self.content],\n",
    "            [\"Price\", f'Rp. {self.price}']\n",
    "            \n",
    "        ], headers = \"firstrow\"))"
   ]
  },
  {
   "cell_type": "code",
   "execution_count": 49,
   "id": "627d21f2",
   "metadata": {},
   "outputs": [],
   "source": [
    "basic_plan = Plan(\n",
    "    name = \"Basic Plan\",\n",
    "    can_download = True,\n",
    "    can_stream = True,\n",
    "    has_SD = True,\n",
    "    has_HD = False,\n",
    "    has_UHD = False,\n",
    "    num_device = 1,\n",
    "    content = [\"3rd party movies\"],\n",
    "    price = 120_000\n",
    ")\n",
    "\n",
    "\n",
    "standard_plan = Plan(\n",
    "    name = \"Standard Plan\",\n",
    "    can_download = True,\n",
    "    can_stream = True,\n",
    "    has_SD = True,\n",
    "    has_HD = True,\n",
    "    has_UHD = False,\n",
    "    num_device = 2,\n",
    "    content = [\"3rd party movies\", \"Sports\"],\n",
    "    price = 160_000\n",
    ")\n",
    "\n",
    "premium_plan = Plan(\n",
    "    name = \"Premium Plan\",\n",
    "    can_download = True,\n",
    "    can_stream = True,\n",
    "    has_SD = True,\n",
    "    has_HD = True,\n",
    "    has_UHD = True,\n",
    "    num_device = 4,\n",
    "    content = [\"3rd party movies\", \"Sports\", \"Pacflix Original Series\"],\n",
    "    price = 200_000\n",
    ")"
   ]
  },
  {
   "cell_type": "code",
   "execution_count": 166,
   "id": "17f61d0f",
   "metadata": {},
   "outputs": [],
   "source": [
    "list_plan = [basic_plan, standard_plan, premium_plan]"
   ]
  },
  {
   "cell_type": "code",
   "execution_count": 170,
   "id": "fa03a379",
   "metadata": {},
   "outputs": [],
   "source": [
    "class User:\n",
    "    \n",
    "    __secret_code = ('2134', 'abcd' ,'2f9g', '9f92', 'lp08', 'fd56')\n",
    "    __list_refcod_user = {}\n",
    "    \n",
    "    def __init__(self, username, choosen_plan, register_date):\n",
    "        self.username = username\n",
    "        self.current_plan = choosen_plan\n",
    "        self.register_date = register_date\n",
    "        self.bill = self.current_plan.price\n",
    "        self.referral_code =  self.username + '-' + self.__secret_code[random.randint(0, 5)]\n",
    "        self.__list_refcod_user [self.username] = self.referral_code\n",
    "        \n",
    "    def upgrade_plan (self, new_plan):\n",
    "        if new_plan.price <= self.current_plan.price:\n",
    "            print (\"Anda tidak bisa melakukan upgrade, pilih plan yang lebih tinggi\")\n",
    "            return\n",
    "        \n",
    "        today = date.today()\n",
    "        difference_in_years = relativedelta(today, self.register_date).years\n",
    "        \n",
    "        discount = 1\n",
    "        \n",
    "        if difference_in_years >= 1:\n",
    "            discount = 0.95\n",
    "        \n",
    "        self.current_plan = new_plan\n",
    "        self.bill = new_plan.price * discount\n",
    "        self.current_plan = new_plan\n",
    "        return f'upgrade berhasil, bill anda sekarang adalah Rp. {self.bill}'\n",
    "    \n",
    "    def redeem (self, code):\n",
    "        if code in self.__list_refcod_user.values():\n",
    "            self.bill = self.current_plan.price * 0.96\n",
    "            return self.bill\n",
    "        else:\n",
    "            print (\"Referral code Anda tidak valid\")\n",
    "    \n",
    "    def check_all_plan(self):\n",
    "        for plan in list_plan:\n",
    "            plan.check_plan()\n",
    "            print('\\n')\n",
    "            \n",
    "    def __str__ (self):\n",
    "        return tabulate([\n",
    "            [\"Username\", self.username],\n",
    "            [\"Plan\", self.current_plan.name],\n",
    "            [\"Register Date\", self.register_date],\n",
    "            [\"Last Bill\", self.bill]\n",
    "        ])"
   ]
  },
  {
   "cell_type": "code",
   "execution_count": 172,
   "id": "0819cc3c",
   "metadata": {},
   "outputs": [
    {
     "name": "stdout",
     "output_type": "stream",
     "text": [
      "-------------  -------------------\n",
      "Username       nizar\n",
      "Plan           Basic Plan\n",
      "Register Date  2019-01-06 00:00:00\n",
      "Last Bill      120000\n",
      "-------------  -------------------\n"
     ]
    }
   ],
   "source": [
    "print (nizar)"
   ]
  },
  {
   "cell_type": "code",
   "execution_count": null,
   "id": "0cb436c3",
   "metadata": {},
   "outputs": [],
   "source": []
  },
  {
   "cell_type": "code",
   "execution_count": null,
   "id": "90d2ad30",
   "metadata": {},
   "outputs": [],
   "source": []
  },
  {
   "cell_type": "code",
   "execution_count": null,
   "id": "44555580",
   "metadata": {},
   "outputs": [],
   "source": []
  },
  {
   "cell_type": "code",
   "execution_count": null,
   "id": "d50a01ad",
   "metadata": {},
   "outputs": [],
   "source": []
  },
  {
   "cell_type": "code",
   "execution_count": 171,
   "id": "a8b1d37b",
   "metadata": {},
   "outputs": [],
   "source": [
    "nizar = User(\"nizar\", basic_plan, dt.datetime(2019, 1, 6))\n",
    "wisnu = User(\"wisnu\", standard_plan, date.today())"
   ]
  },
  {
   "cell_type": "code",
   "execution_count": 79,
   "id": "5924b732",
   "metadata": {},
   "outputs": [
    {
     "name": "stdout",
     "output_type": "stream",
     "text": [
      "upgrade berhasil, bill anda sekarang adalah 190000.0\n"
     ]
    }
   ],
   "source": [
    "print(nizar.upgrade_plan(premium_plan))"
   ]
  },
  {
   "cell_type": "code",
   "execution_count": 165,
   "id": "6bfeb95e",
   "metadata": {},
   "outputs": [
    {
     "data": {
      "text/plain": [
       "115200.0"
      ]
     },
     "execution_count": 165,
     "metadata": {},
     "output_type": "execute_result"
    }
   ],
   "source": [
    "nizar.redeem(wisnu.referral_code)"
   ]
  },
  {
   "cell_type": "code",
   "execution_count": 80,
   "id": "87976ae5",
   "metadata": {},
   "outputs": [],
   "source": []
  },
  {
   "cell_type": "code",
   "execution_count": 114,
   "id": "ee4f769d",
   "metadata": {},
   "outputs": [
    {
     "ename": "AttributeError",
     "evalue": "'dict' object has no attribute 'value'",
     "output_type": "error",
     "traceback": [
      "\u001b[1;31m---------------------------------------------------------------------------\u001b[0m",
      "\u001b[1;31mAttributeError\u001b[0m                            Traceback (most recent call last)",
      "Cell \u001b[1;32mIn[114], line 1\u001b[0m\n\u001b[1;32m----> 1\u001b[0m \u001b[43mwisnu\u001b[49m\u001b[38;5;241;43m.\u001b[39;49m\u001b[43mredeem\u001b[49m\u001b[43m(\u001b[49m\u001b[43mnizar\u001b[49m\u001b[38;5;241;43m.\u001b[39;49m\u001b[43mreferral_code\u001b[49m\u001b[43m)\u001b[49m\n",
      "Cell \u001b[1;32mIn[112], line 33\u001b[0m, in \u001b[0;36mUser.redeem\u001b[1;34m(self, code)\u001b[0m\n\u001b[0;32m     32\u001b[0m \u001b[38;5;28;01mdef\u001b[39;00m \u001b[38;5;21mredeem\u001b[39m (\u001b[38;5;28mself\u001b[39m, code):\n\u001b[1;32m---> 33\u001b[0m     \u001b[38;5;28;01mif\u001b[39;00m code \u001b[38;5;129;01min\u001b[39;00m \u001b[38;5;28;43mself\u001b[39;49m\u001b[38;5;241;43m.\u001b[39;49m\u001b[43m__list_refcod_user\u001b[49m\u001b[38;5;241;43m.\u001b[39;49m\u001b[43mvalue\u001b[49m():\n\u001b[0;32m     34\u001b[0m         \u001b[38;5;28mself\u001b[39m\u001b[38;5;241m.\u001b[39mbill \u001b[38;5;241m=\u001b[39m \u001b[38;5;28mself\u001b[39m\u001b[38;5;241m.\u001b[39mcurrent_plan\u001b[38;5;241m.\u001b[39mprice \u001b[38;5;241m*\u001b[39m \u001b[38;5;241m0.96\u001b[39m\n\u001b[0;32m     35\u001b[0m         \u001b[38;5;28;01mreturn\u001b[39;00m \u001b[38;5;28mself\u001b[39m\u001b[38;5;241m.\u001b[39mbill\n",
      "\u001b[1;31mAttributeError\u001b[0m: 'dict' object has no attribute 'value'"
     ]
    }
   ],
   "source": []
  },
  {
   "cell_type": "code",
   "execution_count": null,
   "id": "28f55130",
   "metadata": {},
   "outputs": [],
   "source": []
  }
 ],
 "metadata": {
  "kernelspec": {
   "display_name": "Python 3 (ipykernel)",
   "language": "python",
   "name": "python3"
  },
  "language_info": {
   "codemirror_mode": {
    "name": "ipython",
    "version": 3
   },
   "file_extension": ".py",
   "mimetype": "text/x-python",
   "name": "python",
   "nbconvert_exporter": "python",
   "pygments_lexer": "ipython3",
   "version": "3.10.9"
  }
 },
 "nbformat": 4,
 "nbformat_minor": 5
}
